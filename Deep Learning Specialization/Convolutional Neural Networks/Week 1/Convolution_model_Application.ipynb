{
 "cells": [
  {
   "cell_type": "markdown",
   "metadata": {},
   "source": [
    "# Convolutional Neural Networks: Application\n",
    "\n",
    "Welcome to Course 4's second assignment! In this notebook, you will:\n",
    "\n",
    "- Create a mood classifer using the TF Keras Sequential API\n",
    "- Build a ConvNet to identify sign language digits using the TF Keras Functional API\n",
    "\n",
    "**After this assignment you will be able to:**\n",
    "\n",
    "- Build and train a ConvNet in TensorFlow for a __binary__ classification problem\n",
    "- Build and train a ConvNet in TensorFlow for a __multiclass__ classification problem\n",
    "- Explain different use cases for the Sequential and Functional APIs\n",
    "\n",
    "To complete this assignment, you should already be familiar with TensorFlow. If you are not, please refer back to the **TensorFlow Tutorial** of the third week of Course 2 (\"**Improving deep neural networks**\")."
   ]
  },
  {
   "cell_type": "markdown",
   "metadata": {},
   "source": [
    "## Table of Contents\n",
    "\n",
    "- [1 - Packages](#1)\n",
    "    - [1.1 - Load the Data and Split the Data into Train/Test Sets](#1-1)\n",
    "- [2 - Layers in TF Keras](#2)\n",
    "- [3 - The Sequential API](#3)\n",
    "    - [3.1 - Create the Sequential Model](#3-1)\n",
    "        - [Exercise 1 - happyModel](#ex-1)\n",
    "    - [3.2 - Train and Evaluate the Model](#3-2)\n",
    "- [4 - The Functional API](#4)\n",
    "    - [4.1 - Load the SIGNS Dataset](#4-1)\n",
    "    - [4.2 - Split the Data into Train/Test Sets](#4-2)\n",
    "    - [4.3 - Forward Propagation](#4-3)\n",
    "        - [Exercise 2 - convolutional_model](#ex-2)\n",
    "    - [4.4 - Train the Model](#4-4)\n",
    "- [5 - History Object](#5)\n",
    "- [6 - Bibliography](#6)"
   ]
  },
  {
   "cell_type": "markdown",
   "metadata": {},
   "source": [
    "<a name='1'></a>\n",
    "## 1 - Packages\n",
    "\n",
    "As usual, begin by loading in the packages."
   ]
  },
  {
   "cell_type": "code",
   "execution_count": 1,
   "metadata": {},
   "outputs": [],
   "source": [
    "import math\n",
    "import numpy as np\n",
    "import h5py\n",
    "import matplotlib.pyplot as plt\n",
    "from matplotlib.pyplot import imread\n",
    "import scipy\n",
    "from PIL import Image\n",
    "import pandas as pd\n",
    "import tensorflow as tf\n",
    "import tensorflow.keras.layers as tfl\n",
    "from tensorflow.python.framework import ops\n",
    "from cnn_utils import *\n",
    "from test_utils import summary, comparator\n",
    "\n",
    "%matplotlib inline\n",
    "np.random.seed(1)"
   ]
  },
  {
   "cell_type": "markdown",
   "metadata": {},
   "source": [
    "<a name='1-1'></a>\n",
    "### 1.1 - Load the Data and Split the Data into Train/Test Sets\n",
    "\n",
    "You'll be using the Happy House dataset for this part of the assignment, which contains images of peoples' faces. Your task will be to build a ConvNet that determines whether the people in the images are smiling or not -- because they only get to enter the house if they're smiling!  "
   ]
  },
  {
   "cell_type": "code",
   "execution_count": 2,
   "metadata": {},
   "outputs": [
    {
     "name": "stdout",
     "output_type": "stream",
     "text": [
      "number of training examples = 600\n",
      "number of test examples = 150\n",
      "X_train shape: (600, 64, 64, 3)\n",
      "Y_train shape: (600, 1)\n",
      "X_test shape: (150, 64, 64, 3)\n",
      "Y_test shape: (150, 1)\n"
     ]
    }
   ],
   "source": [
    "X_train_orig, Y_train_orig, X_test_orig, Y_test_orig, classes = load_happy_dataset()\n",
    "\n",
    "# Normalize image vectors\n",
    "X_train = X_train_orig/255.\n",
    "X_test = X_test_orig/255.\n",
    "\n",
    "# Reshape\n",
    "Y_train = Y_train_orig.T\n",
    "Y_test = Y_test_orig.T\n",
    "\n",
    "print (\"number of training examples = \" + str(X_train.shape[0]))\n",
    "print (\"number of test examples = \" + str(X_test.shape[0]))\n",
    "print (\"X_train shape: \" + str(X_train.shape))\n",
    "print (\"Y_train shape: \" + str(Y_train.shape))\n",
    "print (\"X_test shape: \" + str(X_test.shape))\n",
    "print (\"Y_test shape: \" + str(Y_test.shape))"
   ]
  },
  {
   "cell_type": "markdown",
   "metadata": {},
   "source": [
    "You can display the images contained in the dataset. Images are **64x64** pixels in RGB format (3 channels)."
   ]
  },
  {
   "cell_type": "code",
   "execution_count": 3,
   "metadata": {},
   "outputs": [
    {
     "data": {
      "image/png": "[encoded data removed]",
      "text/plain": [
       "<Figure size 432x288 with 1 Axes>"
      ]
     },
     "metadata": {
      "needs_background": "light"
     },
     "output_type": "display_data"
    }
   ],
   "source": [
    "index = 124\n",
    "plt.imshow(X_train_orig[index]) #display sample training image\n",
    "plt.show()"
   ]
  },
  {
   "cell_type": "markdown",
   "metadata": {},
   "source": [
    "<a name='2'></a>\n",
    "## 2 - Layers in TF Keras \n",
    "\n",
    "In the previous assignment, you created layers manually in numpy. In TF Keras, you don't have to write code directly to create layers. Rather, TF Keras has pre-defined layers you can use. \n",
    "\n",
    "When you create a layer in TF Keras, you are creating a function that takes some input and transforms it into an output you can reuse later. Nice and easy! "
   ]
  },
  {
   "cell_type": "markdown",
   "metadata": {},
   "source": [
    "<a name='3'></a>\n",
    "## 3 - The Sequential API\n",
    "\n",
    "In the previous assignment, you built helper functions using `numpy` to understand the mechanics behind convolutional neural networks. Most practical applications of deep learning today are built using programming frameworks, which have many built-in functions you can simply call. Keras is a high-level abstraction built on top of TensorFlow, which allows for even more simplified and optimized model creation and training. \n",
    "\n",
    "For the first part of this assignment, you'll create a model using TF Keras' Sequential API, which allows you to build layer by layer, and is ideal for building models where each layer has **exactly one** input tensor and **one** output tensor. \n",
    "\n",
    "As you'll see, using the Sequential API is simple and straightforward, but is only appropriate for simpler, more straightforward tasks. Later in this notebook you'll spend some time building with a more flexible, powerful alternative: the Functional API. \n",
    " "
   ]
  },
  {
   "cell_type": "markdown",
   "metadata": {},
   "source": [
    "<a name='3-1'></a>\n",
    "### 3.1 - Create the Sequential Model\n",
    "\n",
    "As mentioned earlier, the TensorFlow Keras Sequential API can be used to build simple models with layer operations that proceed in a sequential order. \n",
    "\n",
    "You can also add layers incrementally to a Sequential model with the `.add()` method, or remove them using the `.pop()` method, much like you would in a regular Python list.\n",
    "\n",
    "Actually, you can think of a Sequential model as behaving like a list of layers. Like Python lists, Sequential layers are ordered, and the order in which they are specified matters.  If your model is non-linear or contains layers with multiple inputs or outputs, a Sequential model wouldn't be the right choice!\n",
    "\n",
    "For any layer construction in Keras, you'll need to specify the input shape in advance. This is because in Keras, the shape of the weights is based on the shape of the inputs. The weights are only created when the model first sees some input data. Sequential models can be created by passing a list of layers to the Sequential constructor, like you will do in the next assignment.\n",
    "\n",
    "<a name='ex-1'></a>\n",
    "### Exercise 1 - happyModel\n",
    "\n",
    "Implement the `happyModel` function below to build the following model: `ZEROPAD2D -> CONV2D -> BATCHNORM -> RELU -> MAXPOOL -> FLATTEN -> DENSE`. Take help from [tf.keras.layers](https://www.tensorflow.org/api_docs/python/tf/keras/layers) \n",
    "\n",
    "Also, plug in the following parameters for all the steps:\n",
    "\n",
    " - [ZeroPadding2D](https://www.tensorflow.org/api_docs/python/tf/keras/layers/ZeroPadding2D): padding 3, input shape 64 x 64 x 3\n",
    " - [Conv2D](https://www.tensorflow.org/api_docs/python/tf/keras/layers/Conv2D): Use 32 7x7 filters, stride 1\n",
    " - [BatchNormalization](https://www.tensorflow.org/api_docs/python/tf/keras/layers/BatchNormalization): for axis 3\n",
    " - [ReLU](https://www.tensorflow.org/api_docs/python/tf/keras/layers/ReLU)\n",
    " - [MaxPool2D](https://www.tensorflow.org/api_docs/python/tf/keras/layers/MaxPool2D): Using default parameters\n",
    " - [Flatten](https://www.tensorflow.org/api_docs/python/tf/keras/layers/Flatten) the previous output.\n",
    " - Fully-connected ([Dense](https://www.tensorflow.org/api_docs/python/tf/keras/layers/Dense)) layer: Apply a fully connected layer with 1 neuron and a sigmoid activation. \n",
    " \n",
    " \n",
    " **Hint:**\n",
    " \n",
    " Use **tfl** as shorthand for **tensorflow.keras.layers**"
   ]
  },
  {
   "cell_type": "code",
   "execution_count": 22,
   "metadata": {
    "deletable": false,
    "nbgrader": {
     "cell_type": "code",
     "checksum": "95d28b191f257bdd5b70c7b8952559d5",
     "grade": false,
     "grade_id": "cell-0e56d3fc28b69aec",
     "locked": false,
     "schema_version": 3,
     "solution": true,
     "task": false
    }
   },
   "outputs": [],
   "source": [
    "# GRADED FUNCTION: happyModel\n",
    "\n",
    "def happyModel():\n",
    "    \"\"\"\n",
    "    Implements the forward propagation for the binary classification model:\n",
    "    ZEROPAD2D -> CONV2D -> BATCHNORM -> RELU -> MAXPOOL -> FLATTEN -> DENSE\n",
    "    \n",
    "    Note that for simplicity and grading purposes, you'll hard-code all the values\n",
    "    such as the stride and kernel (filter) sizes. \n",
    "    Normally, functions should take these values as function parameters.\n",
    "    \n",
    "    Arguments:\n",
    "    None\n",
    "\n",
    "    Returns:\n",
    "    model -- TF Keras model (object containing the information for the entire training process) \n",
    "    \"\"\"\n",
    "    model = tf.keras.Sequential([\n",
    "            tfl.InputLayer(input_shape=(64, 64, 3)),\n",
    "            ## ZeroPadding2D with padding 3, input shape of 64 x 64 x 3\n",
    "            tfl.ZeroPadding2D(padding=(3, 3), data_format='channels_last'),\n",
    "            ## Conv2D with 32 7x7 filters and stride of 1\n",
    "            tfl.Conv2D(32, 7),\n",
    "            ## BatchNormalization for axis 3\n",
    "            tfl.BatchNormalization(axis=3),\n",
    "            ## ReLU\n",
    "            tfl.ReLU(),\n",
    "            ## Max Pooling 2D with default parameters\n",
    "            tfl.MaxPool2D(),\n",
    "            ## Flatten layer\n",
    "            tfl.Flatten(),\n",
    "            ## Dense layer with 1 unit for output & 'sigmoid' activation\n",
    "            tfl.Dense(1, activation='sigmoid'),\n",
    "        ])\n",
    "    \n",
    "    return model"
   ]
  },
  {
   "cell_type": "code",
   "execution_count": 23,
   "metadata": {
    "deletable": false,
    "editable": false,
    "nbgrader": {
     "cell_type": "code",
     "checksum": "8d3575c950e2e78149be2d05d671c80d",
     "grade": true,
     "grade_id": "cell-e3e1046e5c33d775",
     "locked": true,
     "points": 10,
     "schema_version": 3,
     "solution": false,
     "task": false
    }
   },
   "outputs": [
    {
     "name": "stdout",
     "output_type": "stream",
     "text": [
      "['ZeroPadding2D', (None, 70, 70, 3), 0, ((3, 3), (3, 3))]\n",
      "['Conv2D', (None, 64, 64, 32), 4736, 'valid', 'linear', 'GlorotUniform']\n",
      "['BatchNormalization', (None, 64, 64, 32), 128]\n",
      "['ReLU', (None, 64, 64, 32), 0]\n",
      "['MaxPooling2D', (None, 32, 32, 32), 0, (2, 2), (2, 2), 'valid']\n",
      "['Flatten', (None, 32768), 0]\n",
      "['Dense', (None, 1), 32769, 'sigmoid']\n",
      "\u001b[32mAll tests passed!\u001b[0m\n"
     ]
    }
   ],
   "source": [
    "happy_model = happyModel()\n",
    "# Print a summary for each layer\n",
    "for layer in summary(happy_model):\n",
    "    print(layer)\n",
    "    \n",
    "output = [['ZeroPadding2D', (None, 70, 70, 3), 0, ((3, 3), (3, 3))],\n",
    "            ['Conv2D', (None, 64, 64, 32), 4736, 'valid', 'linear', 'GlorotUniform'],\n",
    "            ['BatchNormalization', (None, 64, 64, 32), 128],\n",
    "            ['ReLU', (None, 64, 64, 32), 0],\n",
    "            ['MaxPooling2D', (None, 32, 32, 32), 0, (2, 2), (2, 2), 'valid'],\n",
    "            ['Flatten', (None, 32768), 0],\n",
    "            ['Dense', (None, 1), 32769, 'sigmoid']]\n",
    "    \n",
    "comparator(summary(happy_model), output)"
   ]
  },
  {
   "cell_type": "markdown",
   "metadata": {},
   "source": [
    "Now that your model is created, you can compile it for training with an optimizer and loss of your choice. When the string `accuracy` is specified as a metric, the type of accuracy used will be automatically converted based on the loss function used. This is one of the many optimizations built into TensorFlow that make your life easier! If you'd like to read more on how the compiler operates, check the docs [here](https://www.tensorflow.org/api_docs/python/tf/keras/Model#compile)."
   ]
  },
  {
   "cell_type": "code",
   "execution_count": 24,
   "metadata": {},
   "outputs": [],
   "source": [
    "happy_model.compile(optimizer='adam',\n",
    "                   loss='binary_crossentropy',\n",
    "                   metrics=['accuracy'])"
   ]
  },
  {
   "cell_type": "markdown",
   "metadata": {},
   "source": [
    "It's time to check your model's parameters with the `.summary()` method. This will display the types of layers you have, the shape of the outputs, and how many parameters are in each layer. "
   ]
  },
  {
   "cell_type": "code",
   "execution_count": 25,
   "metadata": {},
   "outputs": [
    {
     "name": "stdout",
     "output_type": "stream",
     "text": [
      "Model: \"sequential_7\"\n",
      "_________________________________________________________________\n",
      "Layer (type)                 Output Shape              Param #   \n",
      "=================================================================\n",
      "zero_padding2d_8 (ZeroPaddin (None, 70, 70, 3)         0         \n",
      "_________________________________________________________________\n",
      "conv2d_8 (Conv2D)            (None, 64, 64, 32)        4736      \n",
      "_________________________________________________________________\n",
      "batch_normalization_8 (Batch (None, 64, 64, 32)        128       \n",
      "_________________________________________________________________\n",
      "re_lu_8 (ReLU)               (None, 64, 64, 32)        0         \n",
      "_________________________________________________________________\n",
      "max_pooling2d_3 (MaxPooling2 (None, 32, 32, 32)        0         \n",
      "_________________________________________________________________\n",
      "flatten_7 (Flatten)          (None, 32768)             0         \n",
      "_________________________________________________________________\n",
      "dense_7 (Dense)              (None, 1)                 32769     \n",
      "=================================================================\n",
      "Total params: 37,633\n",
      "Trainable params: 37,569\n",
      "Non-trainable params: 64\n",
      "_________________________________________________________________\n"
     ]
    }
   ],
   "source": [
    "happy_model.summary()"
   ]
  },
  {
   "cell_type": "markdown",
   "metadata": {},
   "source": [
    "<a name='3-2'></a>\n",
    "### 3.2 - Train and Evaluate the Model\n",
    "\n",
    "After creating the model, compiling it with your choice of optimizer and loss function, and doing a sanity check on its contents, you are now ready to build! \n",
    "\n",
    "Simply call `.fit()` to train. That's it! No need for mini-batching, saving, or complex backpropagation computations. That's all been done for you, as you're using a TensorFlow dataset with the batches specified already. You do have the option to specify epoch number or minibatch size if you like (for example, in the case of an un-batched dataset)."
   ]
  },
  {
   "cell_type": "code",
   "execution_count": 26,
   "metadata": {},
   "outputs": [
    {
     "name": "stdout",
     "output_type": "stream",
     "text": [
      "Epoch 1/10\n",
      "38/38 [==============================] - 4s 103ms/step - loss: 1.2650 - accuracy: 0.6783\n",
      "Epoch 2/10\n",
      "38/38 [==============================] - 4s 100ms/step - loss: 0.2219 - accuracy: 0.9117\n",
      "Epoch 3/10\n",
      "38/38 [==============================] - 4s 100ms/step - loss: 0.2003 - accuracy: 0.9117\n",
      "Epoch 4/10\n",
      "38/38 [==============================] - 4s 98ms/step - loss: 0.1610 - accuracy: 0.9483\n",
      "Epoch 5/10\n",
      "38/38 [==============================] - 4s 97ms/step - loss: 0.1044 - accuracy: 0.9633\n",
      "Epoch 6/10\n",
      "38/38 [==============================] - 4s 97ms/step - loss: 0.0863 - accuracy: 0.9700\n",
      "Epoch 7/10\n",
      "38/38 [==============================] - 4s 97ms/step - loss: 0.0595 - accuracy: 0.9833\n",
      "Epoch 8/10\n",
      "38/38 [==============================] - 4s 95ms/step - loss: 0.0661 - accuracy: 0.9733\n",
      "Epoch 9/10\n",
      "38/38 [==============================] - 4s 98ms/step - loss: 0.0648 - accuracy: 0.9767\n",
      "Epoch 10/10\n",
      "38/38 [==============================] - 4s 98ms/step - loss: 0.0753 - accuracy: 0.9717\n"
     ]
    },
    {
     "data": {
      "text/plain": [
       "<tensorflow.python.keras.callbacks.History at 0x7fb5daa21d50>"
      ]
     },
     "execution_count": 26,
     "metadata": {},
     "output_type": "execute_result"
    }
   ],
   "source": [
    "happy_model.fit(X_train, Y_train, epochs=10, batch_size=16)"
   ]
  },
  {
   "cell_type": "markdown",
   "metadata": {},
   "source": [
    "After that completes, just use `.evaluate()` to evaluate against your test set. This function will print the value of the loss function and the performance metrics specified during the compilation of the model. In this case, the `binary_crossentropy` and the `accuracy` respectively."
   ]
  },
  {
   "cell_type": "code",
   "execution_count": 27,
   "metadata": {},
   "outputs": [
    {
     "name": "stdout",
     "output_type": "stream",
     "text": [
      "5/5 [==============================] - 0s 39ms/step - loss: 0.1191 - accuracy: 0.9533\n"
     ]
    },
    {
     "data": {
      "text/plain": [
       "[0.11907918006181717, 0.95333331823349]"
      ]
     },
     "execution_count": 27,
     "metadata": {},
     "output_type": "execute_result"
    }
   ],
   "source": [
    "happy_model.evaluate(X_test, Y_test)"
   ]
  },
  {
   "cell_type": "markdown",
   "metadata": {},
   "source": [
    "Easy, right? But what if you need to build a model with shared layers, branches, or multiple inputs and outputs? This is where Sequential, with its beautifully simple yet limited functionality, won't be able to help you. \n",
    "\n",
    "Next up: Enter the Functional API, your slightly more complex, highly flexible friend.  "
   ]
  },
  {
   "cell_type": "markdown",
   "metadata": {},
   "source": [
    "<a name='4'></a>\n",
    "## 4 - The Functional API"
   ]
  },
  {
   "cell_type": "markdown",
   "metadata": {},
   "source": [
    "Welcome to the second half of the assignment, where you'll use Keras' flexible [Functional API](https://www.tensorflow.org/guide/keras/functional) to build a ConvNet that can differentiate between 6 sign language digits. \n",
    "\n",
    "The Functional API can handle models with non-linear topology, shared layers, as well as layers with multiple inputs or outputs. Imagine that, where the Sequential API requires the model to move in a linear fashion through its layers, the Functional API allows much more flexibility. Where Sequential is a straight line, a Functional model is a graph, where the nodes of the layers can connect in many more ways than one. \n",
    "\n",
    "In the visual example below, the one possible direction of the movement Sequential model is shown in contrast to a skip connection, which is just one of the many ways a Functional model can be constructed. A skip connection, as you might have guessed, skips some layer in the network and feeds the output to a later layer in the network. Don't worry, you'll be spending more time with skip connections very soon! "
   ]
  },
  {
   "cell_type": "markdown",
   "metadata": {},
   "source": [
    "<img src=\"images/seq_vs_func.png\" style=\"width:350px;height:200px;\">"
   ]
  },
  {
   "cell_type": "markdown",
   "metadata": {},
   "source": [
    "<a name='4-1'></a>\n",
    "### 4.1 - Load the SIGNS Dataset\n",
    "\n",
    "As a reminder, the SIGNS dataset is a collection of 6 signs representing numbers from 0 to 5."
   ]
  },
  {
   "cell_type": "code",
   "execution_count": 28,
   "metadata": {},
   "outputs": [],
   "source": [
    "# Loading the data (signs)\n",
    "X_train_orig, Y_train_orig, X_test_orig, Y_test_orig, classes = load_signs_dataset()"
   ]
  },
  {
   "cell_type": "markdown",
   "metadata": {},
   "source": [
    "<img src=\"images/SIGNS.png\" style=\"width:800px;height:300px;\">\n",
    "\n",
    "The next cell will show you an example of a labelled image in the dataset. Feel free to change the value of `index` below and re-run to see different examples. "
   ]
  },
  {
   "cell_type": "code",
   "execution_count": 29,
   "metadata": {},
   "outputs": [
    {
     "name": "stdout",
     "output_type": "stream",
     "text": [
      "y = 4\n"
     ]
    },
    {
     "data": {
      "image/png": "[encoded data removed]",
      "text/plain": [
       "<Figure size 432x288 with 1 Axes>"
      ]
     },
     "metadata": {
      "needs_background": "light"
     },
     "output_type": "display_data"
    }
   ],
   "source": [
    "# Example of an image from the dataset\n",
    "index = 9\n",
    "plt.imshow(X_train_orig[index])\n",
    "print (\"y = \" + str(np.squeeze(Y_train_orig[:, index])))"
   ]
  },
  {
   "cell_type": "markdown",
   "metadata": {},
   "source": [
    "<a name='4-2'></a>\n",
    "### 4.2 - Split the Data into Train/Test Sets\n",
    "\n",
    "In Course 2, you built a fully-connected network for this dataset. But since this is an image dataset, it is more natural to apply a ConvNet to it.\n",
    "\n",
    "To get started, let's examine the shapes of your data. "
   ]
  },
  {
   "cell_type": "code",
   "execution_count": 30,
   "metadata": {},
   "outputs": [
    {
     "name": "stdout",
     "output_type": "stream",
     "text": [
      "number of training examples = 1080\n",
      "number of test examples = 120\n",
      "X_train shape: (1080, 64, 64, 3)\n",
      "Y_train shape: (1080, 6)\n",
      "X_test shape: (120, 64, 64, 3)\n",
      "Y_test shape: (120, 6)\n"
     ]
    }
   ],
   "source": [
    "X_train = X_train_orig/255.\n",
    "X_test = X_test_orig/255.\n",
    "Y_train = convert_to_one_hot(Y_train_orig, 6).T\n",
    "Y_test = convert_to_one_hot(Y_test_orig, 6).T\n",
    "print (\"number of training examples = \" + str(X_train.shape[0]))\n",
    "print (\"number of test examples = \" + str(X_test.shape[0]))\n",
    "print (\"X_train shape: \" + str(X_train.shape))\n",
    "print (\"Y_train shape: \" + str(Y_train.shape))\n",
    "print (\"X_test shape: \" + str(X_test.shape))\n",
    "print (\"Y_test shape: \" + str(Y_test.shape))"
   ]
  },
  {
   "cell_type": "markdown",
   "metadata": {},
   "source": [
    "<a name='4-3'></a>\n",
    "### 4.3 - Forward Propagation\n",
    "\n",
    "In TensorFlow, there are built-in functions that implement the convolution steps for you. By now, you should be familiar with how TensorFlow builds computational graphs. In the [Functional API](https://www.tensorflow.org/guide/keras/functional), you create a graph of layers. This is what allows such great flexibility.\n",
    "\n",
    "However, the following model could also be defined using the Sequential API since the information flow is on a single line. But don't deviate. What we want you to learn is to use the functional API.\n",
    "\n",
    "Begin building your graph of layers by creating an input node that functions as a callable object:\n",
    "\n",
    "- **input_img = tf.keras.Input(shape=input_shape):** \n",
    "\n",
    "Then, create a new node in the graph of layers by calling a layer on the `input_img` object: \n",
    "\n",
    "- **tf.keras.layers.Conv2D(filters= ... , kernel_size= ... , padding='same')(input_img):** Read the full documentation on [Conv2D](https://www.tensorflow.org/api_docs/python/tf/keras/layers/Conv2D).\n",
    "\n",
    "- **tf.keras.layers.MaxPool2D(pool_size=(f, f), strides=(s, s), padding='same'):** `MaxPool2D()` downsamples your input using a window of size (f, f) and strides of size (s, s) to carry out max pooling over each window.  For max pooling, you usually operate on a single example at a time and a single channel at a time. Read the full documentation on [MaxPool2D](https://www.tensorflow.org/api_docs/python/tf/keras/layers/MaxPool2D).\n",
    "\n",
    "- **tf.keras.layers.ReLU():** computes the elementwise ReLU of Z (which can be any shape). You can read the full documentation on [ReLU](https://www.tensorflow.org/api_docs/python/tf/keras/layers/ReLU).\n",
    "\n",
    "- **tf.keras.layers.Flatten()**: given a tensor \"P\", this function takes each training (or test) example in the batch and flattens it into a 1D vector.  \n",
    "\n",
    "    * If a tensor P has the shape (batch_size,h,w,c), it returns a flattened tensor with shape (batch_size, k), where $k=h \\times w \\times c$.  \"k\" equals the product of all the dimension sizes other than the first dimension.\n",
    "    \n",
    "    * For example, given a tensor with dimensions [100, 2, 3, 4], it flattens the tensor to be of shape [100, 24], where 24 = 2 * 3 * 4.  You can read the full documentation on [Flatten](https://www.tensorflow.org/api_docs/python/tf/keras/layers/Flatten).\n",
    "\n",
    "- **tf.keras.layers.Dense(units= ... , activation='softmax')(F):** given the flattened input F, it returns the output computed using a fully connected layer. You can read the full documentation on [Dense](https://www.tensorflow.org/api_docs/python/tf/keras/layers/Dense).\n",
    "\n",
    "In the last function above (`tf.keras.layers.Dense()`), the fully connected layer automatically initializes weights in the graph and keeps on training them as you train the model. Hence, you did not need to initialize those weights when initializing the parameters.\n",
    "\n",
    "Lastly, before creating the model, you'll need to define the output using the last of the function's compositions (in this example, a Dense layer): \n",
    "\n",
    "- **outputs = tf.keras.layers.Dense(units=6, activation='softmax')(F)**\n",
    "\n",
    "\n",
    "#### Window, kernel, filter, pool\n",
    "\n",
    "The words \"kernel\" and \"filter\" are used to refer to the same thing. The word \"filter\" accounts for the amount of \"kernels\" that will be used in a single convolution layer. \"Pool\" is the name of the operation that takes the max or average value of the kernels. \n",
    "\n",
    "This is why the parameter `pool_size` refers to `kernel_size`, and you use `(f,f)` to refer to the filter size. \n",
    "\n",
    "Pool size and kernel size refer to the same thing in different objects - They refer to the shape of the window where the operation takes place. "
   ]
  },
  {
   "cell_type": "markdown",
   "metadata": {},
   "source": [
    "<a name='ex-2'></a>\n",
    "### Exercise 2 - convolutional_model\n",
    "\n",
    "Implement the `convolutional_model` function below to build the following model: `CONV2D -> RELU -> MAXPOOL -> CONV2D -> RELU -> MAXPOOL -> FLATTEN -> DENSE`. Use the functions above! \n",
    "\n",
    "Also, plug in the following parameters for all the steps:\n",
    "\n",
    " - [Conv2D](https://www.tensorflow.org/api_docs/python/tf/keras/layers/Conv2D): Use 8 4 by 4 filters, stride 1, padding is \"SAME\"\n",
    " - [ReLU](https://www.tensorflow.org/api_docs/python/tf/keras/layers/ReLU)\n",
    " - [MaxPool2D](https://www.tensorflow.org/api_docs/python/tf/keras/layers/MaxPool2D): Use an 8 by 8 filter size and an 8 by 8 stride, padding is \"SAME\"\n",
    " - **Conv2D**: Use 16 2 by 2 filters, stride 1, padding is \"SAME\"\n",
    " - **ReLU**\n",
    " - **MaxPool2D**: Use a 4 by 4 filter size and a 4 by 4 stride, padding is \"SAME\"\n",
    " - [Flatten](https://www.tensorflow.org/api_docs/python/tf/keras/layers/Flatten) the previous output.\n",
    " - Fully-connected ([Dense](https://www.tensorflow.org/api_docs/python/tf/keras/layers/Dense)) layer: Apply a fully connected layer with 6 neurons and a softmax activation. "
   ]
  },
  {
   "cell_type": "code",
   "execution_count": 31,
   "metadata": {
    "deletable": false,
    "nbgrader": {
     "cell_type": "code",
     "checksum": "f58643806aa8380c96225fc8b4c5e7aa",
     "grade": false,
     "grade_id": "cell-dac51744a9e03f51",
     "locked": false,
     "schema_version": 3,
     "solution": true,
     "task": false
    }
   },
   "outputs": [],
   "source": [
    "# GRADED FUNCTION: convolutional_model\n",
    "\n",
    "def convolutional_model(input_shape):\n",
    "    \"\"\"\n",
    "    Implements the forward propagation for the model:\n",
    "    CONV2D -> RELU -> MAXPOOL -> CONV2D -> RELU -> MAXPOOL -> FLATTEN -> DENSE\n",
    "    \n",
    "    Note that for simplicity and grading purposes, you'll hard-code some values\n",
    "    such as the stride and kernel (filter) sizes. \n",
    "    Normally, functions should take these values as function parameters.\n",
    "    \n",
    "    Arguments:\n",
    "    input_img -- input dataset, of shape (input_shape)\n",
    "\n",
    "    Returns:\n",
    "    model -- TF Keras model (object containing the information for the entire training process) \n",
    "    \"\"\"\n",
    "\n",
    "    input_img = tf.keras.Input(shape=input_shape)\n",
    "    ## CONV2D: 8 filters 4x4, stride of 1, padding 'SAME'\n",
    "    Z1 = tfl.Conv2D(8, 4, padding='same')(input_img)\n",
    "    ## RELU\n",
    "    A1 = tfl.ReLU()(Z1)\n",
    "    ## MAXPOOL: window 8x8, stride 8, padding 'SAME'\n",
    "    P1 = tfl.MaxPool2D(pool_size=(8, 8), strides=(8, 8), padding='same')(A1)\n",
    "    ## CONV2D: 16 filters 2x2, stride 1, padding 'SAME'\n",
    "    Z2 = tfl.Conv2D(16, 2, padding='same')(P1)\n",
    "    ## RELU\n",
    "    A2 = tfl.ReLU()(Z2)\n",
    "    ## MAXPOOL: window 4x4, stride 4, padding 'SAME'\n",
    "    P2 = tfl.MaxPool2D(pool_size=(4, 4), strides=(4, 4), padding='same')(A2)\n",
    "    ## FLATTEN\n",
    "    F = tfl.Flatten()(P2)\n",
    "    ## Dense layer\n",
    "    ## 6 neurons in output layer. Hint: one of the arguments should be \"activation='softmax'\" \n",
    "    outputs = tfl.Dense(6, activation='softmax')(F)\n",
    "\n",
    "    model = tf.keras.Model(inputs=input_img, outputs=outputs)\n",
    "    return model"
   ]
  },
  {
   "cell_type": "code",
   "execution_count": 32,
   "metadata": {
    "deletable": false,
    "editable": false,
    "nbgrader": {
     "cell_type": "code",
     "checksum": "483d626949930a0b0ef20997e7c6ba72",
     "grade": true,
     "grade_id": "cell-45d22e92042174c9",
     "locked": true,
     "points": 10,
     "schema_version": 3,
     "solution": false,
     "task": false
    }
   },
   "outputs": [
    {
     "name": "stdout",
     "output_type": "stream",
     "text": [
      "Model: \"functional_1\"\n",
      "_________________________________________________________________\n",
      "Layer (type)                 Output Shape              Param #   \n",
      "=================================================================\n",
      "input_2 (InputLayer)         [(None, 64, 64, 3)]       0         \n",
      "_________________________________________________________________\n",
      "conv2d_9 (Conv2D)            (None, 64, 64, 8)         392       \n",
      "_________________________________________________________________\n",
      "re_lu_9 (ReLU)               (None, 64, 64, 8)         0         \n",
      "_________________________________________________________________\n",
      "max_pooling2d_4 (MaxPooling2 (None, 8, 8, 8)           0         \n",
      "_________________________________________________________________\n",
      "conv2d_10 (Conv2D)           (None, 8, 8, 16)          528       \n",
      "_________________________________________________________________\n",
      "re_lu_10 (ReLU)              (None, 8, 8, 16)          0         \n",
      "_________________________________________________________________\n",
      "max_pooling2d_5 (MaxPooling2 (None, 2, 2, 16)          0         \n",
      "_________________________________________________________________\n",
      "flatten_8 (Flatten)          (None, 64)                0         \n",
      "_________________________________________________________________\n",
      "dense_8 (Dense)              (None, 6)                 390       \n",
      "=================================================================\n",
      "Total params: 1,310\n",
      "Trainable params: 1,310\n",
      "Non-trainable params: 0\n",
      "_________________________________________________________________\n",
      "\u001b[32mAll tests passed!\u001b[0m\n"
     ]
    }
   ],
   "source": [
    "conv_model = convolutional_model((64, 64, 3))\n",
    "conv_model.compile(optimizer='adam',\n",
    "                  loss='categorical_crossentropy',\n",
    "                  metrics=['accuracy'])\n",
    "conv_model.summary()\n",
    "    \n",
    "output = [['InputLayer', [(None, 64, 64, 3)], 0],\n",
    "        ['Conv2D', (None, 64, 64, 8), 392, 'same', 'linear', 'GlorotUniform'],\n",
    "        ['ReLU', (None, 64, 64, 8), 0],\n",
    "        ['MaxPooling2D', (None, 8, 8, 8), 0, (8, 8), (8, 8), 'same'],\n",
    "        ['Conv2D', (None, 8, 8, 16), 528, 'same', 'linear', 'GlorotUniform'],\n",
    "        ['ReLU', (None, 8, 8, 16), 0],\n",
    "        ['MaxPooling2D', (None, 2, 2, 16), 0, (4, 4), (4, 4), 'same'],\n",
    "        ['Flatten', (None, 64), 0],\n",
    "        ['Dense', (None, 6), 390, 'softmax']]\n",
    "    \n",
    "comparator(summary(conv_model), output)"
   ]
  },
  {
   "cell_type": "markdown",
   "metadata": {},
   "source": [
    "Both the Sequential and Functional APIs return a TF Keras model object. The only difference is how inputs are handled inside the object model! "
   ]
  },
  {
   "cell_type": "markdown",
   "metadata": {},
   "source": [
    "<a name='4-4'></a>\n",
    "### 4.4 - Train the Model"
   ]
  },
  {
   "cell_type": "code",
   "execution_count": 33,
   "metadata": {},
   "outputs": [
    {
     "name": "stdout",
     "output_type": "stream",
     "text": [
      "Epoch 1/100\n",
      "17/17 [==============================] - 2s 112ms/step - loss: 1.8130 - accuracy: 0.1630 - val_loss: 1.7912 - val_accuracy: 0.1667\n",
      "Epoch 2/100\n",
      "17/17 [==============================] - 2s 106ms/step - loss: 1.7893 - accuracy: 0.1796 - val_loss: 1.7894 - val_accuracy: 0.1667\n",
      "Epoch 3/100\n",
      "17/17 [==============================] - 2s 106ms/step - loss: 1.7868 - accuracy: 0.2102 - val_loss: 1.7854 - val_accuracy: 0.1750\n",
      "Epoch 4/100\n",
      "17/17 [==============================] - 2s 106ms/step - loss: 1.7817 - accuracy: 0.2361 - val_loss: 1.7811 - val_accuracy: 0.2583\n",
      "Epoch 5/100\n",
      "17/17 [==============================] - 2s 106ms/step - loss: 1.7770 - accuracy: 0.2815 - val_loss: 1.7770 - val_accuracy: 0.2917\n",
      "Epoch 6/100\n",
      "17/17 [==============================] - 2s 111ms/step - loss: 1.7710 - accuracy: 0.2954 - val_loss: 1.7713 - val_accuracy: 0.2833\n",
      "Epoch 7/100\n",
      "17/17 [==============================] - 2s 106ms/step - loss: 1.7642 - accuracy: 0.3167 - val_loss: 1.7651 - val_accuracy: 0.3000\n",
      "Epoch 8/100\n",
      "17/17 [==============================] - 2s 106ms/step - loss: 1.7561 - accuracy: 0.3296 - val_loss: 1.7580 - val_accuracy: 0.3083\n",
      "Epoch 9/100\n",
      "17/17 [==============================] - 2s 106ms/step - loss: 1.7464 - accuracy: 0.3407 - val_loss: 1.7473 - val_accuracy: 0.3333\n",
      "Epoch 10/100\n",
      "17/17 [==============================] - 2s 111ms/step - loss: 1.7334 - accuracy: 0.3546 - val_loss: 1.7341 - val_accuracy: 0.3250\n",
      "Epoch 11/100\n",
      "17/17 [==============================] - 2s 106ms/step - loss: 1.7180 - accuracy: 0.3519 - val_loss: 1.7208 - val_accuracy: 0.3583\n",
      "Epoch 12/100\n",
      "17/17 [==============================] - 2s 106ms/step - loss: 1.7004 - accuracy: 0.3667 - val_loss: 1.7069 - val_accuracy: 0.3500\n",
      "Epoch 13/100\n",
      "17/17 [==============================] - 2s 112ms/step - loss: 1.6790 - accuracy: 0.3676 - val_loss: 1.6875 - val_accuracy: 0.3833\n",
      "Epoch 14/100\n",
      "17/17 [==============================] - 2s 106ms/step - loss: 1.6529 - accuracy: 0.3972 - val_loss: 1.6638 - val_accuracy: 0.4000\n",
      "Epoch 15/100\n",
      "17/17 [==============================] - 2s 101ms/step - loss: 1.6238 - accuracy: 0.3991 - val_loss: 1.6383 - val_accuracy: 0.4083\n",
      "Epoch 16/100\n",
      "17/17 [==============================] - 2s 106ms/step - loss: 1.5924 - accuracy: 0.4259 - val_loss: 1.6108 - val_accuracy: 0.3917\n",
      "Epoch 17/100\n",
      "17/17 [==============================] - 2s 106ms/step - loss: 1.5592 - accuracy: 0.4259 - val_loss: 1.5813 - val_accuracy: 0.4083\n",
      "Epoch 18/100\n",
      "17/17 [==============================] - 2s 106ms/step - loss: 1.5248 - accuracy: 0.4343 - val_loss: 1.5490 - val_accuracy: 0.4583\n",
      "Epoch 19/100\n",
      "17/17 [==============================] - 2s 106ms/step - loss: 1.4890 - accuracy: 0.4444 - val_loss: 1.5150 - val_accuracy: 0.4833\n",
      "Epoch 20/100\n",
      "17/17 [==============================] - 2s 106ms/step - loss: 1.4523 - accuracy: 0.4778 - val_loss: 1.4779 - val_accuracy: 0.4833\n",
      "Epoch 21/100\n",
      "17/17 [==============================] - 2s 106ms/step - loss: 1.4140 - accuracy: 0.5046 - val_loss: 1.4401 - val_accuracy: 0.4667\n",
      "Epoch 22/100\n",
      "17/17 [==============================] - 2s 112ms/step - loss: 1.3772 - accuracy: 0.5278 - val_loss: 1.4046 - val_accuracy: 0.4833\n",
      "Epoch 23/100\n",
      "17/17 [==============================] - 2s 106ms/step - loss: 1.3439 - accuracy: 0.5426 - val_loss: 1.3700 - val_accuracy: 0.5083\n",
      "Epoch 24/100\n",
      "17/17 [==============================] - 2s 111ms/step - loss: 1.3108 - accuracy: 0.5500 - val_loss: 1.3371 - val_accuracy: 0.5250\n",
      "Epoch 25/100\n",
      "17/17 [==============================] - 2s 112ms/step - loss: 1.2792 - accuracy: 0.5657 - val_loss: 1.3054 - val_accuracy: 0.5167\n",
      "Epoch 26/100\n",
      "17/17 [==============================] - 2s 111ms/step - loss: 1.2500 - accuracy: 0.5741 - val_loss: 1.2755 - val_accuracy: 0.5333\n",
      "Epoch 27/100\n",
      "17/17 [==============================] - 2s 111ms/step - loss: 1.2197 - accuracy: 0.5926 - val_loss: 1.2449 - val_accuracy: 0.5583\n",
      "Epoch 28/100\n",
      "17/17 [==============================] - 2s 106ms/step - loss: 1.1918 - accuracy: 0.6019 - val_loss: 1.2144 - val_accuracy: 0.5583\n",
      "Epoch 29/100\n",
      "17/17 [==============================] - 2s 106ms/step - loss: 1.1638 - accuracy: 0.6102 - val_loss: 1.1858 - val_accuracy: 0.5667\n",
      "Epoch 30/100\n",
      "17/17 [==============================] - 2s 106ms/step - loss: 1.1372 - accuracy: 0.6213 - val_loss: 1.1581 - val_accuracy: 0.5750\n",
      "Epoch 31/100\n",
      "17/17 [==============================] - 2s 106ms/step - loss: 1.1107 - accuracy: 0.6333 - val_loss: 1.1289 - val_accuracy: 0.5833\n",
      "Epoch 32/100\n",
      "17/17 [==============================] - 2s 111ms/step - loss: 1.0845 - accuracy: 0.6454 - val_loss: 1.1023 - val_accuracy: 0.5833\n",
      "Epoch 33/100\n",
      "17/17 [==============================] - 2s 107ms/step - loss: 1.0585 - accuracy: 0.6574 - val_loss: 1.0754 - val_accuracy: 0.5833\n",
      "Epoch 34/100\n",
      "17/17 [==============================] - 2s 106ms/step - loss: 1.0340 - accuracy: 0.6648 - val_loss: 1.0493 - val_accuracy: 0.5917\n",
      "Epoch 35/100\n",
      "17/17 [==============================] - 2s 106ms/step - loss: 1.0105 - accuracy: 0.6750 - val_loss: 1.0249 - val_accuracy: 0.6000\n",
      "Epoch 36/100\n",
      "17/17 [==============================] - 2s 106ms/step - loss: 0.9867 - accuracy: 0.6815 - val_loss: 1.0000 - val_accuracy: 0.6167\n",
      "Epoch 37/100\n",
      "17/17 [==============================] - 2s 106ms/step - loss: 0.9646 - accuracy: 0.6926 - val_loss: 0.9764 - val_accuracy: 0.6167\n",
      "Epoch 38/100\n",
      "17/17 [==============================] - 2s 106ms/step - loss: 0.9422 - accuracy: 0.6991 - val_loss: 0.9531 - val_accuracy: 0.6333\n",
      "Epoch 39/100\n",
      "17/17 [==============================] - 2s 106ms/step - loss: 0.9217 - accuracy: 0.7074 - val_loss: 0.9323 - val_accuracy: 0.6417\n",
      "Epoch 40/100\n",
      "17/17 [==============================] - 2s 106ms/step - loss: 0.9001 - accuracy: 0.7120 - val_loss: 0.9122 - val_accuracy: 0.6500\n",
      "Epoch 41/100\n",
      "17/17 [==============================] - 2s 106ms/step - loss: 0.8812 - accuracy: 0.7148 - val_loss: 0.8930 - val_accuracy: 0.6667\n",
      "Epoch 42/100\n",
      "17/17 [==============================] - 2s 107ms/step - loss: 0.8629 - accuracy: 0.7259 - val_loss: 0.8748 - val_accuracy: 0.6583\n",
      "Epoch 43/100\n",
      "17/17 [==============================] - 2s 106ms/step - loss: 0.8462 - accuracy: 0.7315 - val_loss: 0.8569 - val_accuracy: 0.6750\n",
      "Epoch 44/100\n",
      "17/17 [==============================] - 2s 106ms/step - loss: 0.8301 - accuracy: 0.7380 - val_loss: 0.8410 - val_accuracy: 0.6750\n",
      "Epoch 45/100\n",
      "17/17 [==============================] - 2s 106ms/step - loss: 0.8130 - accuracy: 0.7444 - val_loss: 0.8245 - val_accuracy: 0.6750\n",
      "Epoch 46/100\n",
      "17/17 [==============================] - 2s 106ms/step - loss: 0.7979 - accuracy: 0.7454 - val_loss: 0.8105 - val_accuracy: 0.6750\n",
      "Epoch 47/100\n",
      "17/17 [==============================] - 2s 106ms/step - loss: 0.7834 - accuracy: 0.7519 - val_loss: 0.7955 - val_accuracy: 0.6833\n",
      "Epoch 48/100\n",
      "17/17 [==============================] - 2s 106ms/step - loss: 0.7693 - accuracy: 0.7593 - val_loss: 0.7825 - val_accuracy: 0.6667\n",
      "Epoch 49/100\n",
      "17/17 [==============================] - 2s 107ms/step - loss: 0.7567 - accuracy: 0.7574 - val_loss: 0.7708 - val_accuracy: 0.6917\n",
      "Epoch 50/100\n",
      "17/17 [==============================] - 2s 106ms/step - loss: 0.7443 - accuracy: 0.7556 - val_loss: 0.7582 - val_accuracy: 0.6917\n",
      "Epoch 51/100\n",
      "17/17 [==============================] - 2s 106ms/step - loss: 0.7318 - accuracy: 0.7611 - val_loss: 0.7479 - val_accuracy: 0.7000\n",
      "Epoch 52/100\n",
      "17/17 [==============================] - 2s 106ms/step - loss: 0.7205 - accuracy: 0.7583 - val_loss: 0.7372 - val_accuracy: 0.7083\n",
      "Epoch 53/100\n",
      "17/17 [==============================] - 2s 106ms/step - loss: 0.7096 - accuracy: 0.7685 - val_loss: 0.7275 - val_accuracy: 0.7083\n",
      "Epoch 54/100\n",
      "17/17 [==============================] - 2s 106ms/step - loss: 0.6992 - accuracy: 0.7676 - val_loss: 0.7182 - val_accuracy: 0.7083\n",
      "Epoch 55/100\n",
      "17/17 [==============================] - 2s 111ms/step - loss: 0.6891 - accuracy: 0.7713 - val_loss: 0.7084 - val_accuracy: 0.7083\n",
      "Epoch 56/100\n",
      "17/17 [==============================] - 2s 106ms/step - loss: 0.6800 - accuracy: 0.7769 - val_loss: 0.7006 - val_accuracy: 0.7333\n",
      "Epoch 57/100\n",
      "17/17 [==============================] - 2s 106ms/step - loss: 0.6701 - accuracy: 0.7769 - val_loss: 0.6912 - val_accuracy: 0.7167\n",
      "Epoch 58/100\n",
      "17/17 [==============================] - 2s 106ms/step - loss: 0.6620 - accuracy: 0.7815 - val_loss: 0.6840 - val_accuracy: 0.7250\n",
      "Epoch 59/100\n",
      "17/17 [==============================] - 2s 111ms/step - loss: 0.6533 - accuracy: 0.7833 - val_loss: 0.6755 - val_accuracy: 0.7250\n",
      "Epoch 60/100\n",
      "17/17 [==============================] - 2s 111ms/step - loss: 0.6461 - accuracy: 0.7907 - val_loss: 0.6696 - val_accuracy: 0.7333\n",
      "Epoch 61/100\n",
      "17/17 [==============================] - 2s 111ms/step - loss: 0.6379 - accuracy: 0.7917 - val_loss: 0.6621 - val_accuracy: 0.7333\n",
      "Epoch 62/100\n",
      "17/17 [==============================] - 2s 106ms/step - loss: 0.6308 - accuracy: 0.7963 - val_loss: 0.6560 - val_accuracy: 0.7417\n",
      "Epoch 63/100\n",
      "17/17 [==============================] - 2s 111ms/step - loss: 0.6230 - accuracy: 0.8000 - val_loss: 0.6511 - val_accuracy: 0.7417\n",
      "Epoch 64/100\n",
      "17/17 [==============================] - 2s 112ms/step - loss: 0.6160 - accuracy: 0.8046 - val_loss: 0.6433 - val_accuracy: 0.7417\n",
      "Epoch 65/100\n",
      "17/17 [==============================] - 2s 112ms/step - loss: 0.6091 - accuracy: 0.8056 - val_loss: 0.6381 - val_accuracy: 0.7333\n",
      "Epoch 66/100\n",
      "17/17 [==============================] - 2s 106ms/step - loss: 0.6028 - accuracy: 0.8056 - val_loss: 0.6335 - val_accuracy: 0.7333\n",
      "Epoch 67/100\n",
      "17/17 [==============================] - 2s 112ms/step - loss: 0.5961 - accuracy: 0.8083 - val_loss: 0.6268 - val_accuracy: 0.7333\n",
      "Epoch 68/100\n",
      "17/17 [==============================] - 2s 106ms/step - loss: 0.5899 - accuracy: 0.8130 - val_loss: 0.6218 - val_accuracy: 0.7333\n",
      "Epoch 69/100\n",
      "17/17 [==============================] - 2s 106ms/step - loss: 0.5839 - accuracy: 0.8130 - val_loss: 0.6168 - val_accuracy: 0.7333\n",
      "Epoch 70/100\n",
      "17/17 [==============================] - 2s 111ms/step - loss: 0.5773 - accuracy: 0.8139 - val_loss: 0.6106 - val_accuracy: 0.7417\n",
      "Epoch 71/100\n",
      "17/17 [==============================] - 2s 106ms/step - loss: 0.5714 - accuracy: 0.8176 - val_loss: 0.6062 - val_accuracy: 0.7417\n",
      "Epoch 72/100\n",
      "17/17 [==============================] - 2s 106ms/step - loss: 0.5658 - accuracy: 0.8176 - val_loss: 0.6007 - val_accuracy: 0.7417\n",
      "Epoch 73/100\n",
      "17/17 [==============================] - 2s 111ms/step - loss: 0.5603 - accuracy: 0.8204 - val_loss: 0.5970 - val_accuracy: 0.7417\n",
      "Epoch 74/100\n",
      "17/17 [==============================] - 2s 106ms/step - loss: 0.5547 - accuracy: 0.8185 - val_loss: 0.5927 - val_accuracy: 0.7417\n",
      "Epoch 75/100\n",
      "17/17 [==============================] - 2s 107ms/step - loss: 0.5498 - accuracy: 0.8241 - val_loss: 0.5898 - val_accuracy: 0.7417\n",
      "Epoch 76/100\n",
      "17/17 [==============================] - 2s 106ms/step - loss: 0.5447 - accuracy: 0.8259 - val_loss: 0.5860 - val_accuracy: 0.7417\n",
      "Epoch 77/100\n",
      "17/17 [==============================] - 2s 106ms/step - loss: 0.5397 - accuracy: 0.8296 - val_loss: 0.5825 - val_accuracy: 0.7417\n",
      "Epoch 78/100\n",
      "17/17 [==============================] - 2s 106ms/step - loss: 0.5346 - accuracy: 0.8287 - val_loss: 0.5780 - val_accuracy: 0.7417\n",
      "Epoch 79/100\n",
      "17/17 [==============================] - 2s 106ms/step - loss: 0.5294 - accuracy: 0.8315 - val_loss: 0.5747 - val_accuracy: 0.7500\n",
      "Epoch 80/100\n",
      "17/17 [==============================] - 2s 106ms/step - loss: 0.5241 - accuracy: 0.8315 - val_loss: 0.5698 - val_accuracy: 0.7500\n",
      "Epoch 81/100\n",
      "17/17 [==============================] - 2s 106ms/step - loss: 0.5199 - accuracy: 0.8324 - val_loss: 0.5675 - val_accuracy: 0.7500\n",
      "Epoch 82/100\n",
      "17/17 [==============================] - 2s 106ms/step - loss: 0.5153 - accuracy: 0.8315 - val_loss: 0.5633 - val_accuracy: 0.7500\n",
      "Epoch 83/100\n",
      "17/17 [==============================] - 2s 107ms/step - loss: 0.5109 - accuracy: 0.8370 - val_loss: 0.5605 - val_accuracy: 0.7583\n",
      "Epoch 84/100\n",
      "17/17 [==============================] - 2s 106ms/step - loss: 0.5062 - accuracy: 0.8352 - val_loss: 0.5563 - val_accuracy: 0.7667\n",
      "Epoch 85/100\n",
      "17/17 [==============================] - 2s 101ms/step - loss: 0.5030 - accuracy: 0.8352 - val_loss: 0.5538 - val_accuracy: 0.7667\n",
      "Epoch 86/100\n",
      "17/17 [==============================] - 2s 106ms/step - loss: 0.4980 - accuracy: 0.8389 - val_loss: 0.5502 - val_accuracy: 0.7667\n",
      "Epoch 87/100\n",
      "17/17 [==============================] - 2s 106ms/step - loss: 0.4943 - accuracy: 0.8389 - val_loss: 0.5470 - val_accuracy: 0.7750\n",
      "Epoch 88/100\n",
      "17/17 [==============================] - 2s 106ms/step - loss: 0.4895 - accuracy: 0.8407 - val_loss: 0.5442 - val_accuracy: 0.7667\n",
      "Epoch 89/100\n",
      "17/17 [==============================] - 2s 106ms/step - loss: 0.4865 - accuracy: 0.8389 - val_loss: 0.5406 - val_accuracy: 0.7750\n",
      "Epoch 90/100\n",
      "17/17 [==============================] - 2s 106ms/step - loss: 0.4819 - accuracy: 0.8454 - val_loss: 0.5372 - val_accuracy: 0.7833\n",
      "Epoch 91/100\n",
      "17/17 [==============================] - 2s 106ms/step - loss: 0.4788 - accuracy: 0.8407 - val_loss: 0.5347 - val_accuracy: 0.7833\n",
      "Epoch 92/100\n",
      "17/17 [==============================] - 2s 106ms/step - loss: 0.4745 - accuracy: 0.8435 - val_loss: 0.5318 - val_accuracy: 0.7917\n",
      "Epoch 93/100\n",
      "17/17 [==============================] - 2s 106ms/step - loss: 0.4726 - accuracy: 0.8417 - val_loss: 0.5289 - val_accuracy: 0.7833\n",
      "Epoch 94/100\n",
      "17/17 [==============================] - 2s 100ms/step - loss: 0.4680 - accuracy: 0.8481 - val_loss: 0.5258 - val_accuracy: 0.7917\n",
      "Epoch 95/100\n",
      "17/17 [==============================] - 2s 106ms/step - loss: 0.4647 - accuracy: 0.8426 - val_loss: 0.5234 - val_accuracy: 0.7917\n",
      "Epoch 96/100\n",
      "17/17 [==============================] - 2s 106ms/step - loss: 0.4603 - accuracy: 0.8463 - val_loss: 0.5198 - val_accuracy: 0.7917\n",
      "Epoch 97/100\n",
      "17/17 [==============================] - 2s 106ms/step - loss: 0.4577 - accuracy: 0.8444 - val_loss: 0.5173 - val_accuracy: 0.7917\n",
      "Epoch 98/100\n",
      "17/17 [==============================] - 2s 106ms/step - loss: 0.4534 - accuracy: 0.8463 - val_loss: 0.5151 - val_accuracy: 0.7917\n",
      "Epoch 99/100\n",
      "17/17 [==============================] - 2s 111ms/step - loss: 0.4508 - accuracy: 0.8454 - val_loss: 0.5124 - val_accuracy: 0.8000\n",
      "Epoch 100/100\n",
      "17/17 [==============================] - 2s 106ms/step - loss: 0.4461 - accuracy: 0.8509 - val_loss: 0.5097 - val_accuracy: 0.8000\n"
     ]
    }
   ],
   "source": [
    "train_dataset = tf.data.Dataset.from_tensor_slices((X_train, Y_train)).batch(64)\n",
    "test_dataset = tf.data.Dataset.from_tensor_slices((X_test, Y_test)).batch(64)\n",
    "history = conv_model.fit(train_dataset, epochs=100, validation_data=test_dataset)"
   ]
  },
  {
   "cell_type": "markdown",
   "metadata": {},
   "source": [
    "<a name='5'></a>\n",
    "## 5 - History Object \n",
    "\n",
    "The history object is an output of the `.fit()` operation, and provides a record of all the loss and metric values in memory. It's stored as a dictionary that you can retrieve at `history.history`: "
   ]
  },
  {
   "cell_type": "code",
   "execution_count": 34,
   "metadata": {},
   "outputs": [
    {
     "data": {
      "text/plain": [
       "{'loss': [1.8130067586898804,\n",
       "  1.7892812490463257,\n",
       "  1.7867581844329834,\n",
       "  1.7817314863204956,\n",
       "  1.7770092487335205,\n",
       "  1.7710379362106323,\n",
       "  1.7642427682876587,\n",
       "  1.7560794353485107,\n",
       "  1.7463804483413696,\n",
       "  1.7333637475967407,\n",
       "  1.7179906368255615,\n",
       "  1.700369954109192,\n",
       "  1.6790422201156616,\n",
       "  1.6528971195220947,\n",
       "  1.6238186359405518,\n",
       "  1.5924180746078491,\n",
       "  1.5592432022094727,\n",
       "  1.524784803390503,\n",
       "  1.4890018701553345,\n",
       "  1.4523069858551025,\n",
       "  1.4140170812606812,\n",
       "  1.377242922782898,\n",
       "  1.343864917755127,\n",
       "  1.3108205795288086,\n",
       "  1.2792481184005737,\n",
       "  1.2499951124191284,\n",
       "  1.2197160720825195,\n",
       "  1.19176185131073,\n",
       "  1.1638007164001465,\n",
       "  1.1372168064117432,\n",
       "  1.1107267141342163,\n",
       "  1.0844911336898804,\n",
       "  1.0584968328475952,\n",
       "  1.033990502357483,\n",
       "  1.0104894638061523,\n",
       "  0.9866630434989929,\n",
       "  0.9646016359329224,\n",
       "  0.9421965479850769,\n",
       "  0.9216715693473816,\n",
       "  0.9001356959342957,\n",
       "  0.881195604801178,\n",
       "  0.8629344701766968,\n",
       "  0.8461536169052124,\n",
       "  0.8300578594207764,\n",
       "  0.812959611415863,\n",
       "  0.7979110479354858,\n",
       "  0.7833574414253235,\n",
       "  0.7692524194717407,\n",
       "  0.7567330598831177,\n",
       "  0.7443026900291443,\n",
       "  0.7317872047424316,\n",
       "  0.7205018997192383,\n",
       "  0.709613561630249,\n",
       "  0.6991593241691589,\n",
       "  0.6890970468521118,\n",
       "  0.6799801588058472,\n",
       "  0.6701332926750183,\n",
       "  0.6619791388511658,\n",
       "  0.6533031463623047,\n",
       "  0.6461116671562195,\n",
       "  0.6378968358039856,\n",
       "  0.6307530999183655,\n",
       "  0.6229858994483948,\n",
       "  0.6160247921943665,\n",
       "  0.6091387271881104,\n",
       "  0.602763831615448,\n",
       "  0.5961187481880188,\n",
       "  0.5898711085319519,\n",
       "  0.5839288830757141,\n",
       "  0.5772691369056702,\n",
       "  0.5714280605316162,\n",
       "  0.5657913684844971,\n",
       "  0.5602953433990479,\n",
       "  0.55470210313797,\n",
       "  0.5497835278511047,\n",
       "  0.5446907877922058,\n",
       "  0.5396645069122314,\n",
       "  0.5345569849014282,\n",
       "  0.5294185876846313,\n",
       "  0.5241495966911316,\n",
       "  0.5198607444763184,\n",
       "  0.5153087973594666,\n",
       "  0.5109233856201172,\n",
       "  0.5061618685722351,\n",
       "  0.5029596090316772,\n",
       "  0.49797409772872925,\n",
       "  0.49431028962135315,\n",
       "  0.48947980999946594,\n",
       "  0.4865282475948334,\n",
       "  0.4818848669528961,\n",
       "  0.4787578880786896,\n",
       "  0.4744621515274048,\n",
       "  0.4725740849971771,\n",
       "  0.467999130487442,\n",
       "  0.464725524187088,\n",
       "  0.4603009819984436,\n",
       "  0.457710325717926,\n",
       "  0.4533967673778534,\n",
       "  0.4507627487182617,\n",
       "  0.4460924565792084],\n",
       " 'accuracy': [0.16296295821666718,\n",
       "  0.1796296238899231,\n",
       "  0.2101851850748062,\n",
       "  0.2361111044883728,\n",
       "  0.28148147463798523,\n",
       "  0.2953703701496124,\n",
       "  0.3166666626930237,\n",
       "  0.3296296298503876,\n",
       "  0.34074074029922485,\n",
       "  0.35462963581085205,\n",
       "  0.35185185074806213,\n",
       "  0.36666667461395264,\n",
       "  0.36759260296821594,\n",
       "  0.39722222089767456,\n",
       "  0.39907407760620117,\n",
       "  0.42592594027519226,\n",
       "  0.42592594027519226,\n",
       "  0.4342592656612396,\n",
       "  0.4444444477558136,\n",
       "  0.47777777910232544,\n",
       "  0.5046296119689941,\n",
       "  0.5277777910232544,\n",
       "  0.5425925850868225,\n",
       "  0.550000011920929,\n",
       "  0.5657407641410828,\n",
       "  0.5740740895271301,\n",
       "  0.5925925970077515,\n",
       "  0.6018518805503845,\n",
       "  0.6101852059364319,\n",
       "  0.6212962865829468,\n",
       "  0.6333333253860474,\n",
       "  0.645370364189148,\n",
       "  0.6574074029922485,\n",
       "  0.664814829826355,\n",
       "  0.675000011920929,\n",
       "  0.6814814805984497,\n",
       "  0.6925926208496094,\n",
       "  0.6990740895271301,\n",
       "  0.7074074149131775,\n",
       "  0.7120370268821716,\n",
       "  0.7148148417472839,\n",
       "  0.7259259223937988,\n",
       "  0.7314814925193787,\n",
       "  0.7379629611968994,\n",
       "  0.7444444298744202,\n",
       "  0.7453703880310059,\n",
       "  0.7518518567085266,\n",
       "  0.7592592835426331,\n",
       "  0.7574074268341064,\n",
       "  0.7555555701255798,\n",
       "  0.7611111402511597,\n",
       "  0.7583333253860474,\n",
       "  0.7685185074806213,\n",
       "  0.7675926089286804,\n",
       "  0.7712963223457336,\n",
       "  0.7768518328666687,\n",
       "  0.7768518328666687,\n",
       "  0.7814815044403076,\n",
       "  0.7833333611488342,\n",
       "  0.7907407283782959,\n",
       "  0.7916666865348816,\n",
       "  0.7962962985038757,\n",
       "  0.800000011920929,\n",
       "  0.8046296238899231,\n",
       "  0.8055555820465088,\n",
       "  0.8055555820465088,\n",
       "  0.8083333373069763,\n",
       "  0.8129629492759705,\n",
       "  0.8129629492759705,\n",
       "  0.8138889074325562,\n",
       "  0.8175926208496094,\n",
       "  0.8175926208496094,\n",
       "  0.8203703761100769,\n",
       "  0.8185185194015503,\n",
       "  0.8240740895271301,\n",
       "  0.8259259462356567,\n",
       "  0.8296296000480652,\n",
       "  0.8287037014961243,\n",
       "  0.8314814567565918,\n",
       "  0.8314814567565918,\n",
       "  0.8324074149131775,\n",
       "  0.8314814567565918,\n",
       "  0.8370370268821716,\n",
       "  0.835185170173645,\n",
       "  0.835185170173645,\n",
       "  0.8388888835906982,\n",
       "  0.8388888835906982,\n",
       "  0.8407407402992249,\n",
       "  0.8388888835906982,\n",
       "  0.845370352268219,\n",
       "  0.8407407402992249,\n",
       "  0.8435184955596924,\n",
       "  0.8416666388511658,\n",
       "  0.8481481671333313,\n",
       "  0.8425925970077515,\n",
       "  0.8462963104248047,\n",
       "  0.8444444537162781,\n",
       "  0.8462963104248047,\n",
       "  0.845370352268219,\n",
       "  0.8509259223937988],\n",
       " 'val_loss': [1.7912333011627197,\n",
       "  1.7893831729888916,\n",
       "  1.785352110862732,\n",
       "  1.7811027765274048,\n",
       "  1.777008295059204,\n",
       "  1.771320104598999,\n",
       "  1.7651013135910034,\n",
       "  1.7580002546310425,\n",
       "  1.7472509145736694,\n",
       "  1.7341166734695435,\n",
       "  1.7208483219146729,\n",
       "  1.7068941593170166,\n",
       "  1.687506914138794,\n",
       "  1.6638065576553345,\n",
       "  1.6382904052734375,\n",
       "  1.610790729522705,\n",
       "  1.581298828125,\n",
       "  1.5490473508834839,\n",
       "  1.5150039196014404,\n",
       "  1.4778803586959839,\n",
       "  1.4401386976242065,\n",
       "  1.4045969247817993,\n",
       "  1.3699657917022705,\n",
       "  1.3371293544769287,\n",
       "  1.3053748607635498,\n",
       "  1.2754783630371094,\n",
       "  1.2448962926864624,\n",
       "  1.2144206762313843,\n",
       "  1.1857954263687134,\n",
       "  1.1580568552017212,\n",
       "  1.1288635730743408,\n",
       "  1.1022535562515259,\n",
       "  1.0754011869430542,\n",
       "  1.0493385791778564,\n",
       "  1.024938702583313,\n",
       "  0.9999727606773376,\n",
       "  0.976388156414032,\n",
       "  0.9530856609344482,\n",
       "  0.9323486089706421,\n",
       "  0.9121836423873901,\n",
       "  0.8929728865623474,\n",
       "  0.8747619390487671,\n",
       "  0.8568955063819885,\n",
       "  0.8410081267356873,\n",
       "  0.8245157599449158,\n",
       "  0.810505747795105,\n",
       "  0.7954736948013306,\n",
       "  0.7825003266334534,\n",
       "  0.7707766890525818,\n",
       "  0.7581897377967834,\n",
       "  0.7479148507118225,\n",
       "  0.7372233271598816,\n",
       "  0.7274702787399292,\n",
       "  0.7181894779205322,\n",
       "  0.7084245085716248,\n",
       "  0.7006216645240784,\n",
       "  0.691228985786438,\n",
       "  0.6839575171470642,\n",
       "  0.6754927039146423,\n",
       "  0.6696474552154541,\n",
       "  0.6621263027191162,\n",
       "  0.6559727787971497,\n",
       "  0.651098370552063,\n",
       "  0.6433493494987488,\n",
       "  0.6380606293678284,\n",
       "  0.6334883570671082,\n",
       "  0.6267591118812561,\n",
       "  0.6217880845069885,\n",
       "  0.6168290972709656,\n",
       "  0.6106017827987671,\n",
       "  0.6062413454055786,\n",
       "  0.6007232666015625,\n",
       "  0.5970483422279358,\n",
       "  0.5926855802536011,\n",
       "  0.5898258686065674,\n",
       "  0.5860356092453003,\n",
       "  0.5824500918388367,\n",
       "  0.5779954195022583,\n",
       "  0.5747261047363281,\n",
       "  0.5697905421257019,\n",
       "  0.5675367712974548,\n",
       "  0.5632598400115967,\n",
       "  0.5604910254478455,\n",
       "  0.556273341178894,\n",
       "  0.5537695288658142,\n",
       "  0.5502458810806274,\n",
       "  0.5470489859580994,\n",
       "  0.5442050695419312,\n",
       "  0.540564775466919,\n",
       "  0.537232518196106,\n",
       "  0.534656822681427,\n",
       "  0.5318133234977722,\n",
       "  0.5289400219917297,\n",
       "  0.5258426666259766,\n",
       "  0.5234398245811462,\n",
       "  0.5197741985321045,\n",
       "  0.5173093676567078,\n",
       "  0.5150691270828247,\n",
       "  0.5123803615570068,\n",
       "  0.5096865892410278],\n",
       " 'val_accuracy': [0.1666666716337204,\n",
       "  0.1666666716337204,\n",
       "  0.17499999701976776,\n",
       "  0.25833332538604736,\n",
       "  0.2916666567325592,\n",
       "  0.28333333134651184,\n",
       "  0.30000001192092896,\n",
       "  0.3083333373069763,\n",
       "  0.3333333432674408,\n",
       "  0.32499998807907104,\n",
       "  0.3583333194255829,\n",
       "  0.3499999940395355,\n",
       "  0.38333332538604736,\n",
       "  0.4000000059604645,\n",
       "  0.40833333134651184,\n",
       "  0.3916666805744171,\n",
       "  0.40833333134651184,\n",
       "  0.4583333432674408,\n",
       "  0.4833333194255829,\n",
       "  0.4833333194255829,\n",
       "  0.46666666865348816,\n",
       "  0.4833333194255829,\n",
       "  0.5083333253860474,\n",
       "  0.5249999761581421,\n",
       "  0.5166666507720947,\n",
       "  0.5333333611488342,\n",
       "  0.5583333373069763,\n",
       "  0.5583333373069763,\n",
       "  0.5666666626930237,\n",
       "  0.574999988079071,\n",
       "  0.5833333134651184,\n",
       "  0.5833333134651184,\n",
       "  0.5833333134651184,\n",
       "  0.5916666388511658,\n",
       "  0.6000000238418579,\n",
       "  0.6166666746139526,\n",
       "  0.6166666746139526,\n",
       "  0.6333333253860474,\n",
       "  0.6416666507720947,\n",
       "  0.6499999761581421,\n",
       "  0.6666666865348816,\n",
       "  0.6583333611488342,\n",
       "  0.675000011920929,\n",
       "  0.675000011920929,\n",
       "  0.675000011920929,\n",
       "  0.675000011920929,\n",
       "  0.6833333373069763,\n",
       "  0.6666666865348816,\n",
       "  0.6916666626930237,\n",
       "  0.6916666626930237,\n",
       "  0.699999988079071,\n",
       "  0.7083333134651184,\n",
       "  0.7083333134651184,\n",
       "  0.7083333134651184,\n",
       "  0.7083333134651184,\n",
       "  0.7333333492279053,\n",
       "  0.7166666388511658,\n",
       "  0.7250000238418579,\n",
       "  0.7250000238418579,\n",
       "  0.7333333492279053,\n",
       "  0.7333333492279053,\n",
       "  0.7416666746139526,\n",
       "  0.7416666746139526,\n",
       "  0.7416666746139526,\n",
       "  0.7333333492279053,\n",
       "  0.7333333492279053,\n",
       "  0.7333333492279053,\n",
       "  0.7333333492279053,\n",
       "  0.7333333492279053,\n",
       "  0.7416666746139526,\n",
       "  0.7416666746139526,\n",
       "  0.7416666746139526,\n",
       "  0.7416666746139526,\n",
       "  0.7416666746139526,\n",
       "  0.7416666746139526,\n",
       "  0.7416666746139526,\n",
       "  0.7416666746139526,\n",
       "  0.7416666746139526,\n",
       "  0.75,\n",
       "  0.75,\n",
       "  0.75,\n",
       "  0.75,\n",
       "  0.7583333253860474,\n",
       "  0.7666666507720947,\n",
       "  0.7666666507720947,\n",
       "  0.7666666507720947,\n",
       "  0.7749999761581421,\n",
       "  0.7666666507720947,\n",
       "  0.7749999761581421,\n",
       "  0.7833333611488342,\n",
       "  0.7833333611488342,\n",
       "  0.7916666865348816,\n",
       "  0.7833333611488342,\n",
       "  0.7916666865348816,\n",
       "  0.7916666865348816,\n",
       "  0.7916666865348816,\n",
       "  0.7916666865348816,\n",
       "  0.7916666865348816,\n",
       "  0.800000011920929,\n",
       "  0.800000011920929]}"
      ]
     },
     "execution_count": 34,
     "metadata": {},
     "output_type": "execute_result"
    }
   ],
   "source": [
    "history.history"
   ]
  },
  {
   "cell_type": "markdown",
   "metadata": {},
   "source": [
    "Now visualize the loss over time using `history.history`: "
   ]
  },
  {
   "cell_type": "code",
   "execution_count": 35,
   "metadata": {},
   "outputs": [
    {
     "data": {
      "text/plain": [
       "[Text(0, 0.5, 'Accuracy'), Text(0.5, 0, 'Epoch')]"
      ]
     },
     "execution_count": 35,
     "metadata": {},
     "output_type": "execute_result"
    },
    {
     "data": {
      "image/png": "[encoded data removed]",
      "text/plain": [
       "<Figure size 864x576 with 1 Axes>"
      ]
     },
     "metadata": {
      "needs_background": "light"
     },
     "output_type": "display_data"
    },
    {
     "data": {
      "image/png": "[encoded data removed]",
      "text/plain": [
       "<Figure size 864x576 with 1 Axes>"
      ]
     },
     "metadata": {
      "needs_background": "light"
     },
     "output_type": "display_data"
    }
   ],
   "source": [
    "# The history.history[\"loss\"] entry is a dictionary with as many values as epochs that the\n",
    "# model was trained on. \n",
    "df_loss_acc = pd.DataFrame(history.history)\n",
    "df_loss= df_loss_acc[['loss','val_loss']]\n",
    "df_loss.rename(columns={'loss':'train','val_loss':'validation'},inplace=True)\n",
    "df_acc= df_loss_acc[['accuracy','val_accuracy']]\n",
    "df_acc.rename(columns={'accuracy':'train','val_accuracy':'validation'},inplace=True)\n",
    "df_loss.plot(title='Model loss',figsize=(12,8)).set(xlabel='Epoch',ylabel='Loss')\n",
    "df_acc.plot(title='Model Accuracy',figsize=(12,8)).set(xlabel='Epoch',ylabel='Accuracy')"
   ]
  },
  {
   "cell_type": "markdown",
   "metadata": {},
   "source": [
    "**Congratulations**! You've finished the assignment and built two models: One that recognizes  smiles, and another that recognizes SIGN language with almost 80% accuracy on the test set. In addition to that, you now also understand the applications of two Keras APIs: Sequential and Functional. Nicely done! \n",
    "\n",
    "By now, you know a bit about how the Functional API works and may have glimpsed the possibilities. In your next assignment, you'll really get a feel for its power when you get the opportunity to build a very deep ConvNet, using ResNets! "
   ]
  },
  {
   "cell_type": "markdown",
   "metadata": {},
   "source": [
    "<a name='6'></a>\n",
    "## 6 - Bibliography\n",
    "\n",
    "You're always encouraged to read the official documentation. To that end, you can find the docs for the Sequential and Functional APIs here: \n",
    "\n",
    "https://www.tensorflow.org/guide/keras/sequential_model\n",
    "\n",
    "https://www.tensorflow.org/guide/keras/functional"
   ]
  }
 ],
 "metadata": {
  "coursera": {
   "course_slug": "convolutional-neural-networks",
   "graded_item_id": "bwbJV",
   "launcher_item_id": "0TkXB"
  },
  "kernelspec": {
   "display_name": "Python 3",
   "language": "python",
   "name": "python3"
  },
  "language_info": {
   "codemirror_mode": {
    "name": "ipython",
    "version": 3
   },
   "file_extension": ".py",
   "mimetype": "text/x-python",
   "name": "python",
   "nbconvert_exporter": "python",
   "pygments_lexer": "ipython3",
   "version": "3.7.6"
  }
 },
 "nbformat": 4,
 "nbformat_minor": 2
}
